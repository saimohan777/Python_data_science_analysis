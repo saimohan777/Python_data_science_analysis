{
 "cells": [
  {
   "cell_type": "code",
   "execution_count": null,
   "id": "80144953",
   "metadata": {},
   "outputs": [],
   "source": [
    "a=int(input())\n",
    "b=int(input())\n",
    "c=int(input())\n",
    "d=int(input())\n"
   ]
  },
  {
   "cell_type": "code",
   "execution_count": 1,
   "id": "739a6cbd",
   "metadata": {},
   "outputs": [
    {
     "name": "stdout",
     "output_type": "stream",
     "text": [
      "300\n",
      "375\n",
      "78\n",
      "45\n",
      "50.0\n",
      "7.5\n",
      "10.4\n",
      "7.5\n",
      "eligible to win\n"
     ]
    }
   ],
   "source": [
    "a=int(input())\n",
    "b=int(input())\n",
    "c=int(input())\n",
    "d=int(input())\n",
    "e=a/6\n",
    "print(e)\n",
    "f=d/6\n",
    "print(f)\n",
    "g=c/f #total current runs by total current overs\n",
    "print(g)\n",
    "h=b/e\n",
    "print(h)\n",
    "if  g>h:\n",
    "    print('eligible to win')\n",
    "else:\n",
    "    print(\"sorry india\")\n"
   ]
  },
  {
   "cell_type": "code",
   "execution_count": 5,
   "id": "05169b6f",
   "metadata": {},
   "outputs": [
    {
     "name": "stdout",
     "output_type": "stream",
     "text": [
      "enter the length of the wall8\n",
      "enter the breadth of the wall8\n",
      "enter the length of the first painting:3\n",
      "enter the bredth of the first painting:2\n",
      "enter the length of the second painting:4\n",
      "enter the breadth of the second painting:4\n",
      "raj can fix both paintings\n"
     ]
    }
   ],
   "source": [
    "a=int(input(\"enter the length of the wall\"))\n",
    "b=int(input(\"enter the breadth of the wall\"))\n",
    "c=int(input(\"enter the length of the first painting:\"))\n",
    "d=int(input(\"enter the bredth of the first painting:\"))\n",
    "e=int(input(\"enter the length of the second painting:\"))\n",
    "f=int(input(\"enter the breadth of the second painting:\"))\n",
    "g=a*b #wall area\n",
    "h=c*d #first painting area\n",
    "i=e*f #second painting area\n",
    "j=h+i #sum of both paintings\n",
    "if (g>=j):\n",
    "    print(\"raj can fix both paintings\")\n",
    "else:\n",
    "    print(\"raj cannot fix both paintings\")                                                        \n",
    "    "
   ]
  },
  {
   "cell_type": "code",
   "execution_count": 19,
   "id": "3a3fbfc4",
   "metadata": {},
   "outputs": [
    {
     "name": "stdout",
     "output_type": "stream",
     "text": [
      "enter the number:14\n",
      "41\n",
      "not a palimdrome\n"
     ]
    }
   ],
   "source": [
    "#check a number it is a palimdrome or not\n",
    "n=int(input(\"enter the number:\"))\n",
    "b=str(n)\n",
    "c=b[::-1]\n",
    "print(c)\n",
    "if (c==b):\n",
    "    print(\"it is a palimdrome\")\n",
    "else:\n",
    "    print(\"not a palimdrome\")"
   ]
  },
  {
   "cell_type": "code",
   "execution_count": 24,
   "id": "6c2f4deb",
   "metadata": {},
   "outputs": [
    {
     "name": "stdout",
     "output_type": "stream",
     "text": [
      "enter the number:12\n"
     ]
    }
   ],
   "source": [
    "n=int(input(\"enter the number:\"))\n",
    "b=str(n)\n",
    "#while i in b:\n",
    "   # print(i)"
   ]
  },
  {
   "cell_type": "code",
   "execution_count": 21,
   "id": "742b1af2",
   "metadata": {},
   "outputs": [
    {
     "name": "stdout",
     "output_type": "stream",
     "text": [
      "99\n"
     ]
    }
   ],
   "source": [
    "list=[1,7,23,64,99]\n",
    "a=max(list)\n",
    "print(a)"
   ]
  },
  {
   "cell_type": "code",
   "execution_count": 32,
   "id": "846ad843",
   "metadata": {},
   "outputs": [
    {
     "name": "stdout",
     "output_type": "stream",
     "text": [
      "highest no. in a given list 99\n"
     ]
    }
   ],
   "source": [
    "#finding a highest number without using a inbuilt functions\n",
    "a=[1,7,23,64,99]\n",
    "b=a[0]\n",
    "for i in a:\n",
    "    if i > b:\n",
    "        b=i\n",
    "print(\"highest no. in a given list\",b)\n",
    "        "
   ]
  },
  {
   "cell_type": "markdown",
   "id": "6e96951b",
   "metadata": {},
   "source": [
    "\n",
    "python,jupyter,numpy,pandas,tabulau,seaborn\n",
    "\n",
    "math ,statistcs, domains/business knowledge,machine learning\n",
    "\n",
    "data engineer\n",
    "bussiness analyst/data analyst\n",
    "machine learning engineer\n",
    "data visulization consultant"
   ]
  },
  {
   "cell_type": "code",
   "execution_count": null,
   "id": "bd7d1c1e",
   "metadata": {},
   "outputs": [],
   "source": [
    "numbers = [10, 5, 8, 15, 3, 20, 12]\n",
    "\n",
    "highest = numbers[0]  # Assume the first number is the highest\n",
    "for num in numbers:\n",
    "    if num > highest:\n",
    "        highest = num\n",
    "\n",
    "print(\"The highest value is:\", highest)"
   ]
  },
  {
   "cell_type": "code",
   "execution_count": 36,
   "id": "ae9864ea",
   "metadata": {},
   "outputs": [
    {
     "name": "stdout",
     "output_type": "stream",
     "text": [
      "name 1:sai\n",
      "name 1:mohan\n",
      "saimohan\n",
      "enter num 1:9\n",
      "enter num 2:1\n",
      "10\n"
     ]
    }
   ],
   "source": [
    "#by using functions\n",
    "def add(a,b):\n",
    "    c=a+b\n",
    "    print(c)\n",
    "    \n",
    "a=(input(\"name 1:\"))\n",
    "b=(input(\"name 1:\"))\n",
    "add(a,b)\n",
    "\n",
    "\n",
    "a=int(input(\"enter num 1:\"))\n",
    "b=int(input(\"enter num 2:\"))\n",
    "add(a,b)"
   ]
  },
  {
   "cell_type": "code",
   "execution_count": 5,
   "id": "19a6907c",
   "metadata": {},
   "outputs": [
    {
     "name": "stdout",
     "output_type": "stream",
     "text": [
      "5\n",
      "101\n",
      "103\n",
      "107\n",
      "109\n",
      "113\n"
     ]
    }
   ],
   "source": [
    "a=int(input())\n",
    "b=[101,103,107,109,113]\n",
    "if a==2:\n",
    "    print(b[0])\n",
    "    print(b[1])\n",
    "elif a==5:\n",
    "    print(b[0])\n",
    "    print(b[1])\n",
    "    print(b[2])\n",
    "    print(b[3])\n",
    "    print(b[4])\n",
    "    "
   ]
  },
  {
   "cell_type": "code",
   "execution_count": null,
   "id": "d48161dc",
   "metadata": {},
   "outputs": [],
   "source": [
    "a=int(input())\n",
    "b=100\n",
    "c=\n",
    "for i in range(1,n):\n",
    "\n",
    "    "
   ]
  },
  {
   "cell_type": "code",
   "execution_count": 12,
   "id": "883d9c39",
   "metadata": {},
   "outputs": [
    {
     "name": "stdout",
     "output_type": "stream",
     "text": [
      "5\n",
      "[101, 103, 107, 109, 113]\n"
     ]
    }
   ],
   "source": [
    "a=int(input())\n",
    "for i in range(100,a):\n",
    "    b=(a%2==0)\n",
    "    \n",
    "print(b)"
   ]
  },
  {
   "cell_type": "code",
   "execution_count": null,
   "id": "4916b112",
   "metadata": {},
   "outputs": [
    {
     "name": "stdout",
     "output_type": "stream",
     "text": [
      "2\n"
     ]
    }
   ],
   "source": [
    "a=int(input())\n",
    "b=100\n",
    "while a"
   ]
  },
  {
   "cell_type": "code",
   "execution_count": null,
   "id": "0baac98f",
   "metadata": {},
   "outputs": [],
   "source": [
    "a=int(input())\n",
    "for i in range(100,a):\n",
    "    b=(a%2==0)\n",
    "    print(b)"
   ]
  },
  {
   "cell_type": "code",
   "execution_count": 9,
   "id": "dff5a30d",
   "metadata": {},
   "outputs": [
    {
     "name": "stdout",
     "output_type": "stream",
     "text": [
      "enter no 1:100\n",
      "enter no 2:110\n",
      "100\n",
      "102\n",
      "104\n",
      "106\n",
      "108\n",
      "110\n"
     ]
    }
   ],
   "source": [
    "#print a prime numbers b/w 100 to 110\n",
    "a=int(input(\"enter no 1:\"))\n",
    "b=int(input(\"enter no 2:\"))\n",
    "for i in range(a,b+1):\n",
    "    if (i%2==0):\n",
    "        print(i)\n",
    "   \n",
    "    \n",
    "\n",
    "\n"
   ]
  },
  {
   "cell_type": "code",
   "execution_count": null,
   "id": "1459c03b",
   "metadata": {},
   "outputs": [],
   "source": [
    "\n",
    "n=0\n",
    "for i in range(1,3):\n",
    "    print(\"*\")\n",
    "    for j in range(0,2):\n",
    "         print(\"*\"* i,end=\"\")\n",
    "        "
   ]
  },
  {
   "cell_type": "code",
   "execution_count": 2,
   "id": "ad0e3538",
   "metadata": {},
   "outputs": [
    {
     "name": "stdout",
     "output_type": "stream",
     "text": [
      "enter the number:3\n",
      "\n",
      "*\n",
      "**\n",
      "***\n"
     ]
    }
   ],
   "source": [
    "n=int(input(\"enter the number:\"))\n",
    "for i in range(0,n+1):\n",
    "    print(\"*\"*i)"
   ]
  },
  {
   "cell_type": "code",
   "execution_count": 1,
   "id": "f2498a78",
   "metadata": {},
   "outputs": [
    {
     "name": "stdout",
     "output_type": "stream",
     "text": [
      "enter the number:3\n",
      "\n",
      "*\n",
      "**\n",
      "***\n",
      "\n",
      "**\n",
      "****\n",
      "******\n"
     ]
    }
   ],
   "source": [
    "n=int(input(\"enter the number:\"))\n",
    "for i in range(0,n+1):\n",
    "    print(\"*\"*i)\n",
    "for i in range(0,n+1):\n",
    "    print(\"**\"*i)"
   ]
  },
  {
   "cell_type": "code",
   "execution_count": null,
   "id": "5dea67d7",
   "metadata": {},
   "outputs": [],
   "source": []
  }
 ],
 "metadata": {
  "kernelspec": {
   "display_name": "Python 3 (ipykernel)",
   "language": "python",
   "name": "python3"
  },
  "language_info": {
   "codemirror_mode": {
    "name": "ipython",
    "version": 3
   },
   "file_extension": ".py",
   "mimetype": "text/x-python",
   "name": "python",
   "nbconvert_exporter": "python",
   "pygments_lexer": "ipython3",
   "version": "3.10.9"
  }
 },
 "nbformat": 4,
 "nbformat_minor": 5
}
