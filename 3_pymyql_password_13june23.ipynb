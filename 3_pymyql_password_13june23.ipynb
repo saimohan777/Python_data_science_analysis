{
 "cells": [
  {
   "cell_type": "code",
   "execution_count": 21,
   "id": "1724c05a",
   "metadata": {},
   "outputs": [],
   "source": [
    "import pymysql"
   ]
  },
  {
   "cell_type": "code",
   "execution_count": 22,
   "id": "d9c45c70",
   "metadata": {},
   "outputs": [],
   "source": [
    "x=pymysql.connect(host='localhost',user='root',password='Password@123',database='project1')\n",
    "cr=x.cursor()"
   ]
  },
  {
   "cell_type": "code",
   "execution_count": 23,
   "id": "cb709278",
   "metadata": {},
   "outputs": [
    {
     "data": {
      "text/plain": [
       "0"
      ]
     },
     "execution_count": 23,
     "metadata": {},
     "output_type": "execute_result"
    }
   ],
   "source": [
    "cr.execute('create table states(sno int(10),state varchar(50),language varchar(50),city varchar(50))')\n"
   ]
  },
  {
   "cell_type": "code",
   "execution_count": 24,
   "id": "1be7debe",
   "metadata": {},
   "outputs": [
    {
     "data": {
      "text/plain": [
       "1"
      ]
     },
     "execution_count": 24,
     "metadata": {},
     "output_type": "execute_result"
    }
   ],
   "source": [
    "cr.execute('insert into states(sno,state,language,city) values(1,\"andhrapradesh\",\"telugu\",\"xyz\")')"
   ]
  },
  {
   "cell_type": "code",
   "execution_count": 25,
   "id": "8c2e5bf1",
   "metadata": {},
   "outputs": [
    {
     "data": {
      "text/plain": [
       "1"
      ]
     },
     "execution_count": 25,
     "metadata": {},
     "output_type": "execute_result"
    }
   ],
   "source": [
    "cr.execute('insert into states(sno,state,language,city) values(2,\"tamilnadu\",\"tamil\",\"abc\")')"
   ]
  },
  {
   "cell_type": "code",
   "execution_count": 26,
   "id": "d14691a9",
   "metadata": {},
   "outputs": [
    {
     "name": "stdout",
     "output_type": "stream",
     "text": [
      "success\n"
     ]
    }
   ],
   "source": [
    "print(\"success\")\n",
    "x.commit()\n",
    "x.close()"
   ]
  },
  {
   "cell_type": "code",
   "execution_count": null,
   "id": "a3c46525",
   "metadata": {},
   "outputs": [],
   "source": []
  },
  {
   "cell_type": "code",
   "execution_count": null,
   "id": "3955a51a",
   "metadata": {},
   "outputs": [],
   "source": []
  }
 ],
 "metadata": {
  "kernelspec": {
   "display_name": "Python 3 (ipykernel)",
   "language": "python",
   "name": "python3"
  },
  "language_info": {
   "codemirror_mode": {
    "name": "ipython",
    "version": 3
   },
   "file_extension": ".py",
   "mimetype": "text/x-python",
   "name": "python",
   "nbconvert_exporter": "python",
   "pygments_lexer": "ipython3",
   "version": "3.10.9"
  }
 },
 "nbformat": 4,
 "nbformat_minor": 5
}
