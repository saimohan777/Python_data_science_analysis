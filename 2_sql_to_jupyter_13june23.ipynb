{
 "cells": [
  {
   "cell_type": "markdown",
   "id": "83071d7a",
   "metadata": {},
   "source": [
    "# connecting sql to jupyter notebook "
   ]
  },
  {
   "cell_type": "code",
   "execution_count": 27,
   "id": "f642d48e",
   "metadata": {},
   "outputs": [],
   "source": [
    "import pymysql"
   ]
  },
  {
   "cell_type": "code",
   "execution_count": 35,
   "id": "7fcb4e71",
   "metadata": {},
   "outputs": [],
   "source": [
    "x=pymysql.connect(host='localhost',user='root',password='Password@123',database='project1')\n",
    "cr=x.cursor()"
   ]
  },
  {
   "cell_type": "code",
   "execution_count": 40,
   "id": "5a556ceb",
   "metadata": {},
   "outputs": [
    {
     "data": {
      "text/plain": [
       "1"
      ]
     },
     "execution_count": 40,
     "metadata": {},
     "output_type": "execute_result"
    }
   ],
   "source": [
    "cr.execute('create table data3(name char(50),age int(5))')\n",
    "cr.execute('insert into data5(name ,age) values(\"vikram\",45)')\n",
    "cr.execute('insert into data5(name ,age) values(\"siva\",35)')"
   ]
  },
  {
   "cell_type": "code",
   "execution_count": 1,
   "id": "24a28bce",
   "metadata": {},
   "outputs": [],
   "source": [
    "#cr.execute('insert into data5(id,name,mob,dept) values(110,\"saimohan\",0000,99)')"
   ]
  },
  {
   "cell_type": "code",
   "execution_count": null,
   "id": "57a94f18",
   "metadata": {},
   "outputs": [],
   "source": []
  }
 ],
 "metadata": {
  "kernelspec": {
   "display_name": "Python 3 (ipykernel)",
   "language": "python",
   "name": "python3"
  },
  "language_info": {
   "codemirror_mode": {
    "name": "ipython",
    "version": 3
   },
   "file_extension": ".py",
   "mimetype": "text/x-python",
   "name": "python",
   "nbconvert_exporter": "python",
   "pygments_lexer": "ipython3",
   "version": "3.10.9"
  }
 },
 "nbformat": 4,
 "nbformat_minor": 5
}
